{
 "cells": [
  {
   "cell_type": "code",
   "execution_count": 1,
   "metadata": {},
   "outputs": [],
   "source": [
    "import json\n",
    "import bqplot"
   ]
  },
  {
   "cell_type": "code",
   "execution_count": 2,
   "metadata": {},
   "outputs": [],
   "source": [
    "films = json.load(open('shared/sp18-is590dv/data/star_wars/films.json'))\n",
    "characters = json.load(open('shared/sp18-is590dv/data/star_wars/people.json'))"
   ]
  },
  {
   "cell_type": "code",
   "execution_count": 3,
   "metadata": {},
   "outputs": [],
   "source": [
    "char_input = json.load(open(\"shared/sp18-is590dv/data/star_wars/people.json\"))\n",
    "characters = {}\n",
    "for character in char_input:\n",
    "    characters[character['pk']] = character['fields']"
   ]
  },
  {
   "cell_type": "code",
   "execution_count": 4,
   "metadata": {},
   "outputs": [],
   "source": [
    "chars = [\"Boba Fett\", \"Yoda\", \"Jabba Desilijic Tiure\", \"Darth Vader\", \"Obi-Wan Kenobi\",\n",
    "         \"Beru Whitesun lars\", \"Mon Mothma\"]"
   ]
  },
  {
   "cell_type": "code",
   "execution_count": 5,
   "metadata": {},
   "outputs": [
    {
     "data": {
      "application/vnd.jupyter.widget-view+json": {
       "model_id": "a559957b7bef4c36a6ac28b0b7e64f70",
       "version_major": 2,
       "version_minor": 0
      },
      "text/plain": [
       "Figure(fig_margin={'top': 60, 'bottom': 60, 'left': 60, 'right': 60}, layout=Layout(min_width='125px'), marks=…"
      ]
     },
     "metadata": {},
     "output_type": "display_data"
    },
    {
     "name": "stdout",
     "output_type": "stream",
     "text": [
      "Character: Boba Fett\n",
      "\n",
      "Related to Darth Vader in:\n",
      "The Empire Strikes Back\n",
      "Return of the Jedi\n",
      "\n",
      "Related to Beru Whitesun lars in:\n",
      "Attack of the Clones\n",
      "\n",
      "Related to Obi-Wan Kenobi in:\n",
      "The Empire Strikes Back\n",
      "Return of the Jedi\n",
      "Attack of the Clones\n",
      "\n",
      "Related to Jabba Desilijic Tiure in:\n",
      "Return of the Jedi\n",
      "\n",
      "Related to Yoda in:\n",
      "The Empire Strikes Back\n",
      "Return of the Jedi\n",
      "Attack of the Clones\n",
      "\n",
      "Related to Mon Mothma in:\n",
      "Return of the Jedi\n",
      "\n",
      "\n",
      "Character: Darth Vader\n",
      "\n",
      "Related to Beru Whitesun lars in:\n",
      "A New Hope\n",
      "Revenge of the Sith\n",
      "\n",
      "Related to Obi-Wan Kenobi in:\n",
      "A New Hope\n",
      "The Empire Strikes Back\n",
      "Return of the Jedi\n",
      "Revenge of the Sith\n",
      "\n",
      "Related to Jabba Desilijic Tiure in:\n",
      "A New Hope\n",
      "Return of the Jedi\n",
      "\n",
      "Related to Yoda in:\n",
      "The Empire Strikes Back\n",
      "Return of the Jedi\n",
      "Revenge of the Sith\n",
      "\n",
      "Related to Boba Fett in:\n",
      "The Empire Strikes Back\n",
      "Return of the Jedi\n",
      "\n",
      "Related to Mon Mothma in:\n",
      "Return of the Jedi\n",
      "\n",
      "\n"
     ]
    }
   ],
   "source": [
    "link_data = []\n",
    "for film in films:\n",
    "    film_chars = film['fields']['characters']\n",
    "    for character1 in film_chars:\n",
    "        name1 = characters[character1]['name']\n",
    "        if name1 not in chars:\n",
    "            continue\n",
    "        for character2 in film_chars:\n",
    "            name2 = characters[character2]['name']\n",
    "            if name2 not in chars:\n",
    "                continue\n",
    "            link_data.append({'source':chars.index(name1), 'target':chars.index(name2)})\n",
    "            \n",
    "graph = bqplot.Graph(node_data = chars, link_data = link_data, charge = -100, link_distance = 200)\n",
    "\n",
    "fig = bqplot.Figure(marks = [graph])\n",
    "display(fig)"
   ]
  },
  {
   "cell_type": "code",
   "execution_count": 6,
   "metadata": {},
   "outputs": [],
   "source": [
    "def get_char_num(name):\n",
    "    for character in characters:\n",
    "        if characters[character]['name'] == name:\n",
    "            return character"
   ]
  },
  {
   "cell_type": "code",
   "execution_count": 7,
   "metadata": {},
   "outputs": [],
   "source": [
    "def say_hello(obj, element):\n",
    "    # Get the name of the character clicked\n",
    "    index = element['data']['index']\n",
    "    char = chars[index]\n",
    "    char_num = get_char_num(char)     \n",
    "    print('Character:', char)\n",
    "    print()\n",
    "    \n",
    "    # Get a list of target numbers in characters dictionary that linked to the character clicked\n",
    "    targets = []\n",
    "    for link in link_data:\n",
    "        if link['source'] == index:\n",
    "            target = chars[link['target']]\n",
    "            target_num = get_char_num(target)\n",
    "            if target_num != char_num:\n",
    "                targets.append(target_num)\n",
    "\n",
    "    # Build a dictionary with target number as keys and a list of movies with both target and character show up as values\n",
    "    relations = {}\n",
    "    for target_num in set(targets):\n",
    "        relations[target_num] = []\n",
    "        for film in films:\n",
    "            char_list = film['fields']['characters']\n",
    "            if (char_num in char_list) and (target_num in char_list):\n",
    "                relations[target_num].append(film['fields']['title'])\n",
    "                continue\n",
    "    \n",
    "    # Print targets and movies\n",
    "    for target_num in relations:\n",
    "        print('Related to', characters[target_num]['name'], 'in:')\n",
    "        for movie in relations[target_num]:\n",
    "            print(movie)\n",
    "        print()\n",
    "    \n",
    "    print()\n",
    "\n",
    "graph.on_element_click(say_hello)"
   ]
  }
 ],
 "metadata": {
  "kernelspec": {
   "display_name": "Environment (conda_is590dv-default)",
   "language": "python",
   "name": "conda_is590dv-default"
  },
  "language_info": {
   "codemirror_mode": {
    "name": "ipython",
    "version": 3
   },
   "file_extension": ".py",
   "mimetype": "text/x-python",
   "name": "python",
   "nbconvert_exporter": "python",
   "pygments_lexer": "ipython3",
   "version": "3.6.6"
  }
 },
 "nbformat": 4,
 "nbformat_minor": 2
}
